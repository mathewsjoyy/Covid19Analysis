{
 "metadata": {
  "language_info": {
   "codemirror_mode": {
    "name": "ipython",
    "version": 3
   },
   "file_extension": ".py",
   "mimetype": "text/x-python",
   "name": "python",
   "nbconvert_exporter": "python",
   "pygments_lexer": "ipython3",
   "version": "3.9.0"
  },
  "orig_nbformat": 2,
  "kernelspec": {
   "name": "python390jvsc74a57bd00050bdc898b9a679c387244c11e8057e7ae4f22360b32a2e55d1f190f6800284",
   "display_name": "Python 3.9.0 64-bit"
  }
 },
 "nbformat": 4,
 "nbformat_minor": 2,
 "cells": [
  {
   "cell_type": "code",
   "execution_count": 1,
   "metadata": {},
   "outputs": [],
   "source": [
    "# Import neccasary libraries\n",
    "import numpy as np\n",
    "import pandas as pd \n",
    "import os\n",
    "import urllib\n",
    "# %matplotlib inline # Allows jyupter notebook to render (not used)\n",
    "\n"
   ]
  },
  {
   "cell_type": "code",
   "execution_count": 2,
   "metadata": {},
   "outputs": [],
   "source": [
    "# Get the url\n",
    "url = \"https://covid19.who.int/WHO-COVID-19-global-data.csv\"\n",
    "# Store new path for download in folder data > covid\n",
    "file_path = os.path.join(\"data\", \"covid\")"
   ]
  },
  {
   "cell_type": "code",
   "execution_count": 3,
   "metadata": {},
   "outputs": [
    {
     "output_type": "execute_result",
     "data": {
      "text/plain": [
       "('data\\\\covid\\\\WHO-COVID-19-global-data.csv',\n",
       " <http.client.HTTPMessage at 0x1871f7bf460>)"
      ]
     },
     "metadata": {},
     "execution_count": 3
    }
   ],
   "source": [
    "# Make the directory using the file_path variable\n",
    "os.makedirs(file_path, exist_ok=True)\n",
    "csv_path = os.path.join(file_path, \"WHO-COVID-19-global-data.csv\")\n",
    "urllib.request.urlretrieve(url, csv_path)   # save content from url to the path"
   ]
  },
  {
   "cell_type": "code",
   "execution_count": 4,
   "metadata": {},
   "outputs": [],
   "source": [
    "# Make our data frame\n",
    "df = pd.read_csv(csv_path)\n"
   ]
  },
  {
   "cell_type": "code",
   "execution_count": 5,
   "metadata": {},
   "outputs": [
    {
     "output_type": "execute_result",
     "data": {
      "text/plain": [
       "(112812, 8)"
      ]
     },
     "metadata": {},
     "execution_count": 5
    }
   ],
   "source": [
    "df.shape"
   ]
  },
  {
   "cell_type": "code",
   "execution_count": 6,
   "metadata": {},
   "outputs": [
    {
     "output_type": "execute_result",
     "data": {
      "text/plain": [
       "  Date_reported Country_code      Country WHO_region  New_cases  \\\n",
       "0    2020-01-03           AF  Afghanistan       EMRO          0   \n",
       "1    2020-01-04           AF  Afghanistan       EMRO          0   \n",
       "2    2020-01-05           AF  Afghanistan       EMRO          0   \n",
       "3    2020-01-06           AF  Afghanistan       EMRO          0   \n",
       "4    2020-01-07           AF  Afghanistan       EMRO          0   \n",
       "\n",
       "   Cumulative_cases  New_deaths  Cumulative_deaths  \n",
       "0                 0           0                  0  \n",
       "1                 0           0                  0  \n",
       "2                 0           0                  0  \n",
       "3                 0           0                  0  \n",
       "4                 0           0                  0  "
      ],
      "text/html": "<div>\n<style scoped>\n    .dataframe tbody tr th:only-of-type {\n        vertical-align: middle;\n    }\n\n    .dataframe tbody tr th {\n        vertical-align: top;\n    }\n\n    .dataframe thead th {\n        text-align: right;\n    }\n</style>\n<table border=\"1\" class=\"dataframe\">\n  <thead>\n    <tr style=\"text-align: right;\">\n      <th></th>\n      <th>Date_reported</th>\n      <th>Country_code</th>\n      <th>Country</th>\n      <th>WHO_region</th>\n      <th>New_cases</th>\n      <th>Cumulative_cases</th>\n      <th>New_deaths</th>\n      <th>Cumulative_deaths</th>\n    </tr>\n  </thead>\n  <tbody>\n    <tr>\n      <th>0</th>\n      <td>2020-01-03</td>\n      <td>AF</td>\n      <td>Afghanistan</td>\n      <td>EMRO</td>\n      <td>0</td>\n      <td>0</td>\n      <td>0</td>\n      <td>0</td>\n    </tr>\n    <tr>\n      <th>1</th>\n      <td>2020-01-04</td>\n      <td>AF</td>\n      <td>Afghanistan</td>\n      <td>EMRO</td>\n      <td>0</td>\n      <td>0</td>\n      <td>0</td>\n      <td>0</td>\n    </tr>\n    <tr>\n      <th>2</th>\n      <td>2020-01-05</td>\n      <td>AF</td>\n      <td>Afghanistan</td>\n      <td>EMRO</td>\n      <td>0</td>\n      <td>0</td>\n      <td>0</td>\n      <td>0</td>\n    </tr>\n    <tr>\n      <th>3</th>\n      <td>2020-01-06</td>\n      <td>AF</td>\n      <td>Afghanistan</td>\n      <td>EMRO</td>\n      <td>0</td>\n      <td>0</td>\n      <td>0</td>\n      <td>0</td>\n    </tr>\n    <tr>\n      <th>4</th>\n      <td>2020-01-07</td>\n      <td>AF</td>\n      <td>Afghanistan</td>\n      <td>EMRO</td>\n      <td>0</td>\n      <td>0</td>\n      <td>0</td>\n      <td>0</td>\n    </tr>\n  </tbody>\n</table>\n</div>"
     },
     "metadata": {},
     "execution_count": 6
    }
   ],
   "source": [
    "df.head()"
   ]
  },
  {
   "cell_type": "code",
   "execution_count": 7,
   "metadata": {},
   "outputs": [
    {
     "output_type": "execute_result",
     "data": {
      "text/plain": [
       "           New_cases  Cumulative_cases     New_deaths  Cumulative_deaths\n",
       "count  112812.000000      1.128120e+05  112812.000000      112812.000000\n",
       "mean     1271.546245      1.791034e+05      27.051519        4404.729204\n",
       "std      7952.670900      1.167906e+06     151.767327       24056.899783\n",
       "min    -32952.000000      0.000000e+00    -514.000000           0.000000\n",
       "25%         0.000000      1.300000e+01       0.000000           0.000000\n",
       "50%         5.000000      1.633000e+03       0.000000          27.000000\n",
       "75%       247.000000      3.140825e+04       4.000000         556.000000\n",
       "max    402270.000000      3.146688e+07    6409.000000      563224.000000"
      ],
      "text/html": "<div>\n<style scoped>\n    .dataframe tbody tr th:only-of-type {\n        vertical-align: middle;\n    }\n\n    .dataframe tbody tr th {\n        vertical-align: top;\n    }\n\n    .dataframe thead th {\n        text-align: right;\n    }\n</style>\n<table border=\"1\" class=\"dataframe\">\n  <thead>\n    <tr style=\"text-align: right;\">\n      <th></th>\n      <th>New_cases</th>\n      <th>Cumulative_cases</th>\n      <th>New_deaths</th>\n      <th>Cumulative_deaths</th>\n    </tr>\n  </thead>\n  <tbody>\n    <tr>\n      <th>count</th>\n      <td>112812.000000</td>\n      <td>1.128120e+05</td>\n      <td>112812.000000</td>\n      <td>112812.000000</td>\n    </tr>\n    <tr>\n      <th>mean</th>\n      <td>1271.546245</td>\n      <td>1.791034e+05</td>\n      <td>27.051519</td>\n      <td>4404.729204</td>\n    </tr>\n    <tr>\n      <th>std</th>\n      <td>7952.670900</td>\n      <td>1.167906e+06</td>\n      <td>151.767327</td>\n      <td>24056.899783</td>\n    </tr>\n    <tr>\n      <th>min</th>\n      <td>-32952.000000</td>\n      <td>0.000000e+00</td>\n      <td>-514.000000</td>\n      <td>0.000000</td>\n    </tr>\n    <tr>\n      <th>25%</th>\n      <td>0.000000</td>\n      <td>1.300000e+01</td>\n      <td>0.000000</td>\n      <td>0.000000</td>\n    </tr>\n    <tr>\n      <th>50%</th>\n      <td>5.000000</td>\n      <td>1.633000e+03</td>\n      <td>0.000000</td>\n      <td>27.000000</td>\n    </tr>\n    <tr>\n      <th>75%</th>\n      <td>247.000000</td>\n      <td>3.140825e+04</td>\n      <td>4.000000</td>\n      <td>556.000000</td>\n    </tr>\n    <tr>\n      <th>max</th>\n      <td>402270.000000</td>\n      <td>3.146688e+07</td>\n      <td>6409.000000</td>\n      <td>563224.000000</td>\n    </tr>\n  </tbody>\n</table>\n</div>"
     },
     "metadata": {},
     "execution_count": 7
    }
   ],
   "source": [
    "df.describe()"
   ]
  },
  {
   "cell_type": "code",
   "execution_count": 8,
   "metadata": {},
   "outputs": [
    {
     "output_type": "execute_result",
     "data": {
      "text/plain": [
       "Index(['Date_reported', 'Country_code', 'Country', 'WHO_region', 'New_cases',\n",
       "       'Cumulative_cases', 'New_deaths', 'Cumulative_deaths'],\n",
       "      dtype='object')"
      ]
     },
     "metadata": {},
     "execution_count": 8
    }
   ],
   "source": [
    "# Go through all columns and get rid of whitespaces in column names\n",
    "df.columns = [col.strip() for col in df.columns]\n",
    "df.columns"
   ]
  },
  {
   "cell_type": "code",
   "execution_count": 9,
   "metadata": {},
   "outputs": [
    {
     "output_type": "execute_result",
     "data": {
      "text/plain": [
       "1    Afghanistan\n",
       "2    Afghanistan\n",
       "3    Afghanistan\n",
       "4    Afghanistan\n",
       "Name: Country, dtype: object"
      ]
     },
     "metadata": {},
     "execution_count": 9
    }
   ],
   "source": [
    "df.loc[1:4, \"Country\"]  # Get entries 1-4 from country column"
   ]
  },
  {
   "cell_type": "code",
   "execution_count": 10,
   "metadata": {},
   "outputs": [
    {
     "output_type": "execute_result",
     "data": {
      "text/plain": [
       "       Country  New_cases  New_deaths\n",
       "1  Afghanistan          0           0\n",
       "2  Afghanistan          0           0\n",
       "3  Afghanistan          0           0\n",
       "4  Afghanistan          0           0\n",
       "5  Afghanistan          0           0\n",
       "6  Afghanistan          0           0\n",
       "7  Afghanistan          0           0\n",
       "8  Afghanistan          0           0"
      ],
      "text/html": "<div>\n<style scoped>\n    .dataframe tbody tr th:only-of-type {\n        vertical-align: middle;\n    }\n\n    .dataframe tbody tr th {\n        vertical-align: top;\n    }\n\n    .dataframe thead th {\n        text-align: right;\n    }\n</style>\n<table border=\"1\" class=\"dataframe\">\n  <thead>\n    <tr style=\"text-align: right;\">\n      <th></th>\n      <th>Country</th>\n      <th>New_cases</th>\n      <th>New_deaths</th>\n    </tr>\n  </thead>\n  <tbody>\n    <tr>\n      <th>1</th>\n      <td>Afghanistan</td>\n      <td>0</td>\n      <td>0</td>\n    </tr>\n    <tr>\n      <th>2</th>\n      <td>Afghanistan</td>\n      <td>0</td>\n      <td>0</td>\n    </tr>\n    <tr>\n      <th>3</th>\n      <td>Afghanistan</td>\n      <td>0</td>\n      <td>0</td>\n    </tr>\n    <tr>\n      <th>4</th>\n      <td>Afghanistan</td>\n      <td>0</td>\n      <td>0</td>\n    </tr>\n    <tr>\n      <th>5</th>\n      <td>Afghanistan</td>\n      <td>0</td>\n      <td>0</td>\n    </tr>\n    <tr>\n      <th>6</th>\n      <td>Afghanistan</td>\n      <td>0</td>\n      <td>0</td>\n    </tr>\n    <tr>\n      <th>7</th>\n      <td>Afghanistan</td>\n      <td>0</td>\n      <td>0</td>\n    </tr>\n    <tr>\n      <th>8</th>\n      <td>Afghanistan</td>\n      <td>0</td>\n      <td>0</td>\n    </tr>\n  </tbody>\n</table>\n</div>"
     },
     "metadata": {},
     "execution_count": 10
    }
   ],
   "source": [
    "df.loc[1:8,[\"Country\", \"New_cases\", \"New_deaths\"]]  # Get 3 columns at a time"
   ]
  },
  {
   "cell_type": "code",
   "execution_count": 11,
   "metadata": {},
   "outputs": [
    {
     "output_type": "execute_result",
     "data": {
      "text/plain": [
       "       Date_reported Country_code                   Country WHO_region  \\\n",
       "107576    2020-01-03           US  United States of America       AMRO   \n",
       "107577    2020-01-04           US  United States of America       AMRO   \n",
       "107578    2020-01-05           US  United States of America       AMRO   \n",
       "107579    2020-01-06           US  United States of America       AMRO   \n",
       "107580    2020-01-07           US  United States of America       AMRO   \n",
       "...              ...          ...                       ...        ...   \n",
       "108047    2021-04-18           US  United States of America       AMRO   \n",
       "108048    2021-04-19           US  United States of America       AMRO   \n",
       "108049    2021-04-20           US  United States of America       AMRO   \n",
       "108050    2021-04-21           US  United States of America       AMRO   \n",
       "108051    2021-04-22           US  United States of America       AMRO   \n",
       "\n",
       "        New_cases  Cumulative_cases  New_deaths  Cumulative_deaths  \n",
       "107576          0                 0           0                  0  \n",
       "107577          0                 0           0                  0  \n",
       "107578          0                 0           0                  0  \n",
       "107579          0                 0           0                  0  \n",
       "107580          0                 0           0                  0  \n",
       "...           ...               ...         ...                ...  \n",
       "108047      73697          31250635         911             560858  \n",
       "108048      61306          31311941         758             561616  \n",
       "108049      38084          31350025         305             561921  \n",
       "108050      57164          31407189         534             562455  \n",
       "108051      59687          31466876         769             563224  \n",
       "\n",
       "[476 rows x 8 columns]"
      ],
      "text/html": "<div>\n<style scoped>\n    .dataframe tbody tr th:only-of-type {\n        vertical-align: middle;\n    }\n\n    .dataframe tbody tr th {\n        vertical-align: top;\n    }\n\n    .dataframe thead th {\n        text-align: right;\n    }\n</style>\n<table border=\"1\" class=\"dataframe\">\n  <thead>\n    <tr style=\"text-align: right;\">\n      <th></th>\n      <th>Date_reported</th>\n      <th>Country_code</th>\n      <th>Country</th>\n      <th>WHO_region</th>\n      <th>New_cases</th>\n      <th>Cumulative_cases</th>\n      <th>New_deaths</th>\n      <th>Cumulative_deaths</th>\n    </tr>\n  </thead>\n  <tbody>\n    <tr>\n      <th>107576</th>\n      <td>2020-01-03</td>\n      <td>US</td>\n      <td>United States of America</td>\n      <td>AMRO</td>\n      <td>0</td>\n      <td>0</td>\n      <td>0</td>\n      <td>0</td>\n    </tr>\n    <tr>\n      <th>107577</th>\n      <td>2020-01-04</td>\n      <td>US</td>\n      <td>United States of America</td>\n      <td>AMRO</td>\n      <td>0</td>\n      <td>0</td>\n      <td>0</td>\n      <td>0</td>\n    </tr>\n    <tr>\n      <th>107578</th>\n      <td>2020-01-05</td>\n      <td>US</td>\n      <td>United States of America</td>\n      <td>AMRO</td>\n      <td>0</td>\n      <td>0</td>\n      <td>0</td>\n      <td>0</td>\n    </tr>\n    <tr>\n      <th>107579</th>\n      <td>2020-01-06</td>\n      <td>US</td>\n      <td>United States of America</td>\n      <td>AMRO</td>\n      <td>0</td>\n      <td>0</td>\n      <td>0</td>\n      <td>0</td>\n    </tr>\n    <tr>\n      <th>107580</th>\n      <td>2020-01-07</td>\n      <td>US</td>\n      <td>United States of America</td>\n      <td>AMRO</td>\n      <td>0</td>\n      <td>0</td>\n      <td>0</td>\n      <td>0</td>\n    </tr>\n    <tr>\n      <th>...</th>\n      <td>...</td>\n      <td>...</td>\n      <td>...</td>\n      <td>...</td>\n      <td>...</td>\n      <td>...</td>\n      <td>...</td>\n      <td>...</td>\n    </tr>\n    <tr>\n      <th>108047</th>\n      <td>2021-04-18</td>\n      <td>US</td>\n      <td>United States of America</td>\n      <td>AMRO</td>\n      <td>73697</td>\n      <td>31250635</td>\n      <td>911</td>\n      <td>560858</td>\n    </tr>\n    <tr>\n      <th>108048</th>\n      <td>2021-04-19</td>\n      <td>US</td>\n      <td>United States of America</td>\n      <td>AMRO</td>\n      <td>61306</td>\n      <td>31311941</td>\n      <td>758</td>\n      <td>561616</td>\n    </tr>\n    <tr>\n      <th>108049</th>\n      <td>2021-04-20</td>\n      <td>US</td>\n      <td>United States of America</td>\n      <td>AMRO</td>\n      <td>38084</td>\n      <td>31350025</td>\n      <td>305</td>\n      <td>561921</td>\n    </tr>\n    <tr>\n      <th>108050</th>\n      <td>2021-04-21</td>\n      <td>US</td>\n      <td>United States of America</td>\n      <td>AMRO</td>\n      <td>57164</td>\n      <td>31407189</td>\n      <td>534</td>\n      <td>562455</td>\n    </tr>\n    <tr>\n      <th>108051</th>\n      <td>2021-04-22</td>\n      <td>US</td>\n      <td>United States of America</td>\n      <td>AMRO</td>\n      <td>59687</td>\n      <td>31466876</td>\n      <td>769</td>\n      <td>563224</td>\n    </tr>\n  </tbody>\n</table>\n<p>476 rows × 8 columns</p>\n</div>"
     },
     "metadata": {},
     "execution_count": 11
    }
   ],
   "source": [
    "df[df.Country == \"United States of America\"]  # Get only USA data"
   ]
  },
  {
   "cell_type": "code",
   "execution_count": 12,
   "metadata": {},
   "outputs": [
    {
     "output_type": "execute_result",
     "data": {
      "text/plain": [
       "        New_deaths                           Country\n",
       "4082          3351                         Argentina\n",
       "11673         1610  Bolivia (Plurinational State of)\n",
       "13467         1179                            Brazil\n",
       "13469         1188                            Brazil\n",
       "13470         1001                            Brazil\n",
       "...            ...                               ...\n",
       "108024        1293          United States of America\n",
       "108025        1403          United States of America\n",
       "108026        1280          United States of America\n",
       "108031        1055          United States of America\n",
       "108033        2655          United States of America\n",
       "\n",
       "[531 rows x 2 columns]"
      ],
      "text/html": "<div>\n<style scoped>\n    .dataframe tbody tr th:only-of-type {\n        vertical-align: middle;\n    }\n\n    .dataframe tbody tr th {\n        vertical-align: top;\n    }\n\n    .dataframe thead th {\n        text-align: right;\n    }\n</style>\n<table border=\"1\" class=\"dataframe\">\n  <thead>\n    <tr style=\"text-align: right;\">\n      <th></th>\n      <th>New_deaths</th>\n      <th>Country</th>\n    </tr>\n  </thead>\n  <tbody>\n    <tr>\n      <th>4082</th>\n      <td>3351</td>\n      <td>Argentina</td>\n    </tr>\n    <tr>\n      <th>11673</th>\n      <td>1610</td>\n      <td>Bolivia (Plurinational State of)</td>\n    </tr>\n    <tr>\n      <th>13467</th>\n      <td>1179</td>\n      <td>Brazil</td>\n    </tr>\n    <tr>\n      <th>13469</th>\n      <td>1188</td>\n      <td>Brazil</td>\n    </tr>\n    <tr>\n      <th>13470</th>\n      <td>1001</td>\n      <td>Brazil</td>\n    </tr>\n    <tr>\n      <th>...</th>\n      <td>...</td>\n      <td>...</td>\n    </tr>\n    <tr>\n      <th>108024</th>\n      <td>1293</td>\n      <td>United States of America</td>\n    </tr>\n    <tr>\n      <th>108025</th>\n      <td>1403</td>\n      <td>United States of America</td>\n    </tr>\n    <tr>\n      <th>108026</th>\n      <td>1280</td>\n      <td>United States of America</td>\n    </tr>\n    <tr>\n      <th>108031</th>\n      <td>1055</td>\n      <td>United States of America</td>\n    </tr>\n    <tr>\n      <th>108033</th>\n      <td>2655</td>\n      <td>United States of America</td>\n    </tr>\n  </tbody>\n</table>\n<p>531 rows × 2 columns</p>\n</div>"
     },
     "metadata": {},
     "execution_count": 12
    }
   ],
   "source": [
    "# New deaths greater then or equal 1000, and show only 2 specific columns\n",
    "df.loc[df.New_deaths >= 1000, [\"New_deaths\", \"Country\"]]"
   ]
  },
  {
   "cell_type": "code",
   "execution_count": 13,
   "metadata": {},
   "outputs": [
    {
     "output_type": "execute_result",
     "data": {
      "text/plain": [
       "       Date_reported                   Country  New_cases  New_deaths\n",
       "107668    2020-04-04  United States of America      28103        1061\n",
       "107669    2020-04-05  United States of America      32105        1166\n",
       "107670    2020-04-06  United States of America      33510        1338\n",
       "107671    2020-04-07  United States of America      26493        1201\n",
       "107672    2020-04-08  United States of America      29510        1286\n",
       "...              ...                       ...        ...         ...\n",
       "108024    2021-03-26  United States of America      65326        1293\n",
       "108025    2021-03-27  United States of America      69589        1403\n",
       "108026    2021-03-28  United States of America      71187        1280\n",
       "108031    2021-04-02  United States of America      68409        1055\n",
       "108033    2021-04-04  United States of America      65770        2655\n",
       "\n",
       "[226 rows x 4 columns]"
      ],
      "text/html": "<div>\n<style scoped>\n    .dataframe tbody tr th:only-of-type {\n        vertical-align: middle;\n    }\n\n    .dataframe tbody tr th {\n        vertical-align: top;\n    }\n\n    .dataframe thead th {\n        text-align: right;\n    }\n</style>\n<table border=\"1\" class=\"dataframe\">\n  <thead>\n    <tr style=\"text-align: right;\">\n      <th></th>\n      <th>Date_reported</th>\n      <th>Country</th>\n      <th>New_cases</th>\n      <th>New_deaths</th>\n    </tr>\n  </thead>\n  <tbody>\n    <tr>\n      <th>107668</th>\n      <td>2020-04-04</td>\n      <td>United States of America</td>\n      <td>28103</td>\n      <td>1061</td>\n    </tr>\n    <tr>\n      <th>107669</th>\n      <td>2020-04-05</td>\n      <td>United States of America</td>\n      <td>32105</td>\n      <td>1166</td>\n    </tr>\n    <tr>\n      <th>107670</th>\n      <td>2020-04-06</td>\n      <td>United States of America</td>\n      <td>33510</td>\n      <td>1338</td>\n    </tr>\n    <tr>\n      <th>107671</th>\n      <td>2020-04-07</td>\n      <td>United States of America</td>\n      <td>26493</td>\n      <td>1201</td>\n    </tr>\n    <tr>\n      <th>107672</th>\n      <td>2020-04-08</td>\n      <td>United States of America</td>\n      <td>29510</td>\n      <td>1286</td>\n    </tr>\n    <tr>\n      <th>...</th>\n      <td>...</td>\n      <td>...</td>\n      <td>...</td>\n      <td>...</td>\n    </tr>\n    <tr>\n      <th>108024</th>\n      <td>2021-03-26</td>\n      <td>United States of America</td>\n      <td>65326</td>\n      <td>1293</td>\n    </tr>\n    <tr>\n      <th>108025</th>\n      <td>2021-03-27</td>\n      <td>United States of America</td>\n      <td>69589</td>\n      <td>1403</td>\n    </tr>\n    <tr>\n      <th>108026</th>\n      <td>2021-03-28</td>\n      <td>United States of America</td>\n      <td>71187</td>\n      <td>1280</td>\n    </tr>\n    <tr>\n      <th>108031</th>\n      <td>2021-04-02</td>\n      <td>United States of America</td>\n      <td>68409</td>\n      <td>1055</td>\n    </tr>\n    <tr>\n      <th>108033</th>\n      <td>2021-04-04</td>\n      <td>United States of America</td>\n      <td>65770</td>\n      <td>2655</td>\n    </tr>\n  </tbody>\n</table>\n<p>226 rows × 4 columns</p>\n</div>"
     },
     "metadata": {},
     "execution_count": 13
    }
   ],
   "source": [
    "# Chain conditions\n",
    "df.loc[(df.New_deaths > 1000) & (df.Country_code == 'US'), [\"Date_reported\",\"Country\",\"New_cases\",\"New_deaths\"]]"
   ]
  },
  {
   "cell_type": "code",
   "execution_count": 14,
   "metadata": {},
   "outputs": [
    {
     "output_type": "execute_result",
     "data": {
      "text/plain": [
       "New_cases    31466876\n",
       "dtype: int64"
      ]
     },
     "metadata": {},
     "execution_count": 14
    }
   ],
   "source": [
    "df.loc[df.Country_code == \"US\", [\"New_cases\"]].sum()"
   ]
  },
  {
   "cell_type": "code",
   "execution_count": 15,
   "metadata": {},
   "outputs": [
    {
     "output_type": "execute_result",
     "data": {
      "text/plain": [
       "       Date_reported Country_code                   Country WHO_region  \\\n",
       "1166      2020-08-04           DZ                   Algeria       AFRO   \n",
       "2656      2020-10-05           AO                    Angola       AFRO   \n",
       "6904      2020-08-30           BS                   Bahamas       AMRO   \n",
       "7121      2021-04-04           BS                   Bahamas       AMRO   \n",
       "15424     2020-07-13           BF              Burkina Faso       AFRO   \n",
       "21578     2020-06-09           CG                     Congo       AFRO   \n",
       "24025     2020-08-15           CU                      Cuba       AMRO   \n",
       "25412     2020-07-05           CZ                   Czechia       EURO   \n",
       "25413     2020-07-06           CZ                   Czechia       EURO   \n",
       "30826     2020-12-30           ER                   Eritrea       AFRO   \n",
       "30911     2021-03-25           ER                   Eritrea       AFRO   \n",
       "31656     2020-08-30           SZ                  Eswatini       AFRO   \n",
       "31863     2021-03-25           SZ                  Eswatini       AFRO   \n",
       "35207     2021-04-06           GF             French Guiana       AMRO   \n",
       "40169     2020-07-06           GP                Guadeloupe       AMRO   \n",
       "41059     2020-05-05           GT                 Guatemala       AMRO   \n",
       "42071     2020-07-04           GN                    Guinea       AFRO   \n",
       "44643     2021-01-12           HN                  Honduras       AMRO   \n",
       "47874     2020-10-03           IE                   Ireland       EURO   \n",
       "49202     2020-06-25           IT                     Italy       EURO   \n",
       "56073     2021-01-18           LS                   Lesotho       AFRO   \n",
       "60895     2021-03-21           ML                      Mali       AFRO   \n",
       "63473     2020-06-16           YT                   Mayotte       AFRO   \n",
       "68318     2020-09-09          NaN                   Namibia       AFRO   \n",
       "78616     2020-03-19           PH               Philippines       WPRO   \n",
       "80567     2020-05-05           PR               Puerto Rico       AMRO   \n",
       "82583     2020-08-25           RE                   Réunion       AFRO   \n",
       "89140     2020-05-10           ST     Sao Tome and Principe       AFRO   \n",
       "92917     2020-04-09           SX              Sint Maarten       AMRO   \n",
       "95817     2020-05-23           SS               South Sudan       AFRO   \n",
       "95927     2020-09-10           SS               South Sudan       AFRO   \n",
       "96014     2020-12-06           SS               South Sudan       AFRO   \n",
       "101834    2021-03-24           TG                      Togo       AFRO   \n",
       "106118    2021-03-24           UG                    Uganda       AFRO   \n",
       "107699    2020-05-05           US  United States of America       AMRO   \n",
       "112514    2020-06-29           ZW                  Zimbabwe       AFRO   \n",
       "\n",
       "        New_cases  Cumulative_cases  New_deaths  Cumulative_deaths  \n",
       "1166          507             31972          -2               1229  \n",
       "2656            0              5370          -4                185  \n",
       "6904           37              2057         -10                 40  \n",
       "7121           35              9234          -1                188  \n",
       "15424          13              1033          -1                 53  \n",
       "21578           0               683          -2                 20  \n",
       "24025          55              3229          -1                 88  \n",
       "25412         121             12440          -1                351  \n",
       "25413          75             12515          -3                348  \n",
       "30826         181              1220          -1                  1  \n",
       "30911          20              3183         -27                  8  \n",
       "31656          49              4510          -2                 91  \n",
       "31863           5             17301          -2                666  \n",
       "35207           0             17132          -3                 93  \n",
       "40169           0               184          -2                 14  \n",
       "41059          15               703          -2                 17  \n",
       "42071          71              5521         -13                 33  \n",
       "44643         719            127945          -2               3273  \n",
       "47874         466             37063          -5               1801  \n",
       "49202         577            239410         -31              34644  \n",
       "56073           0              6371          -4                 93  \n",
       "60895         204              9270          -3                360  \n",
       "63473          28              2310          -1                 28  \n",
       "68318         118              8928          -2                 89  \n",
       "78616          15               202          -2                 17  \n",
       "80567          35              1843         -43                 54  \n",
       "82583          35              1244          -4                  2  \n",
       "89140         -43               165          -1                  4  \n",
       "92917          -3                37          -2                  6  \n",
       "95817           0               473          -1                  5  \n",
       "95927           0              2555          -1                 48  \n",
       "96014          12              3166          -1                 61  \n",
       "101834        117              9077          -9                 95  \n",
       "106118         32             40719          -5                334  \n",
       "107699      29266           1154985        -514              67279  \n",
       "112514          0               567          -1                  6  "
      ],
      "text/html": "<div>\n<style scoped>\n    .dataframe tbody tr th:only-of-type {\n        vertical-align: middle;\n    }\n\n    .dataframe tbody tr th {\n        vertical-align: top;\n    }\n\n    .dataframe thead th {\n        text-align: right;\n    }\n</style>\n<table border=\"1\" class=\"dataframe\">\n  <thead>\n    <tr style=\"text-align: right;\">\n      <th></th>\n      <th>Date_reported</th>\n      <th>Country_code</th>\n      <th>Country</th>\n      <th>WHO_region</th>\n      <th>New_cases</th>\n      <th>Cumulative_cases</th>\n      <th>New_deaths</th>\n      <th>Cumulative_deaths</th>\n    </tr>\n  </thead>\n  <tbody>\n    <tr>\n      <th>1166</th>\n      <td>2020-08-04</td>\n      <td>DZ</td>\n      <td>Algeria</td>\n      <td>AFRO</td>\n      <td>507</td>\n      <td>31972</td>\n      <td>-2</td>\n      <td>1229</td>\n    </tr>\n    <tr>\n      <th>2656</th>\n      <td>2020-10-05</td>\n      <td>AO</td>\n      <td>Angola</td>\n      <td>AFRO</td>\n      <td>0</td>\n      <td>5370</td>\n      <td>-4</td>\n      <td>185</td>\n    </tr>\n    <tr>\n      <th>6904</th>\n      <td>2020-08-30</td>\n      <td>BS</td>\n      <td>Bahamas</td>\n      <td>AMRO</td>\n      <td>37</td>\n      <td>2057</td>\n      <td>-10</td>\n      <td>40</td>\n    </tr>\n    <tr>\n      <th>7121</th>\n      <td>2021-04-04</td>\n      <td>BS</td>\n      <td>Bahamas</td>\n      <td>AMRO</td>\n      <td>35</td>\n      <td>9234</td>\n      <td>-1</td>\n      <td>188</td>\n    </tr>\n    <tr>\n      <th>15424</th>\n      <td>2020-07-13</td>\n      <td>BF</td>\n      <td>Burkina Faso</td>\n      <td>AFRO</td>\n      <td>13</td>\n      <td>1033</td>\n      <td>-1</td>\n      <td>53</td>\n    </tr>\n    <tr>\n      <th>21578</th>\n      <td>2020-06-09</td>\n      <td>CG</td>\n      <td>Congo</td>\n      <td>AFRO</td>\n      <td>0</td>\n      <td>683</td>\n      <td>-2</td>\n      <td>20</td>\n    </tr>\n    <tr>\n      <th>24025</th>\n      <td>2020-08-15</td>\n      <td>CU</td>\n      <td>Cuba</td>\n      <td>AMRO</td>\n      <td>55</td>\n      <td>3229</td>\n      <td>-1</td>\n      <td>88</td>\n    </tr>\n    <tr>\n      <th>25412</th>\n      <td>2020-07-05</td>\n      <td>CZ</td>\n      <td>Czechia</td>\n      <td>EURO</td>\n      <td>121</td>\n      <td>12440</td>\n      <td>-1</td>\n      <td>351</td>\n    </tr>\n    <tr>\n      <th>25413</th>\n      <td>2020-07-06</td>\n      <td>CZ</td>\n      <td>Czechia</td>\n      <td>EURO</td>\n      <td>75</td>\n      <td>12515</td>\n      <td>-3</td>\n      <td>348</td>\n    </tr>\n    <tr>\n      <th>30826</th>\n      <td>2020-12-30</td>\n      <td>ER</td>\n      <td>Eritrea</td>\n      <td>AFRO</td>\n      <td>181</td>\n      <td>1220</td>\n      <td>-1</td>\n      <td>1</td>\n    </tr>\n    <tr>\n      <th>30911</th>\n      <td>2021-03-25</td>\n      <td>ER</td>\n      <td>Eritrea</td>\n      <td>AFRO</td>\n      <td>20</td>\n      <td>3183</td>\n      <td>-27</td>\n      <td>8</td>\n    </tr>\n    <tr>\n      <th>31656</th>\n      <td>2020-08-30</td>\n      <td>SZ</td>\n      <td>Eswatini</td>\n      <td>AFRO</td>\n      <td>49</td>\n      <td>4510</td>\n      <td>-2</td>\n      <td>91</td>\n    </tr>\n    <tr>\n      <th>31863</th>\n      <td>2021-03-25</td>\n      <td>SZ</td>\n      <td>Eswatini</td>\n      <td>AFRO</td>\n      <td>5</td>\n      <td>17301</td>\n      <td>-2</td>\n      <td>666</td>\n    </tr>\n    <tr>\n      <th>35207</th>\n      <td>2021-04-06</td>\n      <td>GF</td>\n      <td>French Guiana</td>\n      <td>AMRO</td>\n      <td>0</td>\n      <td>17132</td>\n      <td>-3</td>\n      <td>93</td>\n    </tr>\n    <tr>\n      <th>40169</th>\n      <td>2020-07-06</td>\n      <td>GP</td>\n      <td>Guadeloupe</td>\n      <td>AMRO</td>\n      <td>0</td>\n      <td>184</td>\n      <td>-2</td>\n      <td>14</td>\n    </tr>\n    <tr>\n      <th>41059</th>\n      <td>2020-05-05</td>\n      <td>GT</td>\n      <td>Guatemala</td>\n      <td>AMRO</td>\n      <td>15</td>\n      <td>703</td>\n      <td>-2</td>\n      <td>17</td>\n    </tr>\n    <tr>\n      <th>42071</th>\n      <td>2020-07-04</td>\n      <td>GN</td>\n      <td>Guinea</td>\n      <td>AFRO</td>\n      <td>71</td>\n      <td>5521</td>\n      <td>-13</td>\n      <td>33</td>\n    </tr>\n    <tr>\n      <th>44643</th>\n      <td>2021-01-12</td>\n      <td>HN</td>\n      <td>Honduras</td>\n      <td>AMRO</td>\n      <td>719</td>\n      <td>127945</td>\n      <td>-2</td>\n      <td>3273</td>\n    </tr>\n    <tr>\n      <th>47874</th>\n      <td>2020-10-03</td>\n      <td>IE</td>\n      <td>Ireland</td>\n      <td>EURO</td>\n      <td>466</td>\n      <td>37063</td>\n      <td>-5</td>\n      <td>1801</td>\n    </tr>\n    <tr>\n      <th>49202</th>\n      <td>2020-06-25</td>\n      <td>IT</td>\n      <td>Italy</td>\n      <td>EURO</td>\n      <td>577</td>\n      <td>239410</td>\n      <td>-31</td>\n      <td>34644</td>\n    </tr>\n    <tr>\n      <th>56073</th>\n      <td>2021-01-18</td>\n      <td>LS</td>\n      <td>Lesotho</td>\n      <td>AFRO</td>\n      <td>0</td>\n      <td>6371</td>\n      <td>-4</td>\n      <td>93</td>\n    </tr>\n    <tr>\n      <th>60895</th>\n      <td>2021-03-21</td>\n      <td>ML</td>\n      <td>Mali</td>\n      <td>AFRO</td>\n      <td>204</td>\n      <td>9270</td>\n      <td>-3</td>\n      <td>360</td>\n    </tr>\n    <tr>\n      <th>63473</th>\n      <td>2020-06-16</td>\n      <td>YT</td>\n      <td>Mayotte</td>\n      <td>AFRO</td>\n      <td>28</td>\n      <td>2310</td>\n      <td>-1</td>\n      <td>28</td>\n    </tr>\n    <tr>\n      <th>68318</th>\n      <td>2020-09-09</td>\n      <td>NaN</td>\n      <td>Namibia</td>\n      <td>AFRO</td>\n      <td>118</td>\n      <td>8928</td>\n      <td>-2</td>\n      <td>89</td>\n    </tr>\n    <tr>\n      <th>78616</th>\n      <td>2020-03-19</td>\n      <td>PH</td>\n      <td>Philippines</td>\n      <td>WPRO</td>\n      <td>15</td>\n      <td>202</td>\n      <td>-2</td>\n      <td>17</td>\n    </tr>\n    <tr>\n      <th>80567</th>\n      <td>2020-05-05</td>\n      <td>PR</td>\n      <td>Puerto Rico</td>\n      <td>AMRO</td>\n      <td>35</td>\n      <td>1843</td>\n      <td>-43</td>\n      <td>54</td>\n    </tr>\n    <tr>\n      <th>82583</th>\n      <td>2020-08-25</td>\n      <td>RE</td>\n      <td>Réunion</td>\n      <td>AFRO</td>\n      <td>35</td>\n      <td>1244</td>\n      <td>-4</td>\n      <td>2</td>\n    </tr>\n    <tr>\n      <th>89140</th>\n      <td>2020-05-10</td>\n      <td>ST</td>\n      <td>Sao Tome and Principe</td>\n      <td>AFRO</td>\n      <td>-43</td>\n      <td>165</td>\n      <td>-1</td>\n      <td>4</td>\n    </tr>\n    <tr>\n      <th>92917</th>\n      <td>2020-04-09</td>\n      <td>SX</td>\n      <td>Sint Maarten</td>\n      <td>AMRO</td>\n      <td>-3</td>\n      <td>37</td>\n      <td>-2</td>\n      <td>6</td>\n    </tr>\n    <tr>\n      <th>95817</th>\n      <td>2020-05-23</td>\n      <td>SS</td>\n      <td>South Sudan</td>\n      <td>AFRO</td>\n      <td>0</td>\n      <td>473</td>\n      <td>-1</td>\n      <td>5</td>\n    </tr>\n    <tr>\n      <th>95927</th>\n      <td>2020-09-10</td>\n      <td>SS</td>\n      <td>South Sudan</td>\n      <td>AFRO</td>\n      <td>0</td>\n      <td>2555</td>\n      <td>-1</td>\n      <td>48</td>\n    </tr>\n    <tr>\n      <th>96014</th>\n      <td>2020-12-06</td>\n      <td>SS</td>\n      <td>South Sudan</td>\n      <td>AFRO</td>\n      <td>12</td>\n      <td>3166</td>\n      <td>-1</td>\n      <td>61</td>\n    </tr>\n    <tr>\n      <th>101834</th>\n      <td>2021-03-24</td>\n      <td>TG</td>\n      <td>Togo</td>\n      <td>AFRO</td>\n      <td>117</td>\n      <td>9077</td>\n      <td>-9</td>\n      <td>95</td>\n    </tr>\n    <tr>\n      <th>106118</th>\n      <td>2021-03-24</td>\n      <td>UG</td>\n      <td>Uganda</td>\n      <td>AFRO</td>\n      <td>32</td>\n      <td>40719</td>\n      <td>-5</td>\n      <td>334</td>\n    </tr>\n    <tr>\n      <th>107699</th>\n      <td>2020-05-05</td>\n      <td>US</td>\n      <td>United States of America</td>\n      <td>AMRO</td>\n      <td>29266</td>\n      <td>1154985</td>\n      <td>-514</td>\n      <td>67279</td>\n    </tr>\n    <tr>\n      <th>112514</th>\n      <td>2020-06-29</td>\n      <td>ZW</td>\n      <td>Zimbabwe</td>\n      <td>AFRO</td>\n      <td>0</td>\n      <td>567</td>\n      <td>-1</td>\n      <td>6</td>\n    </tr>\n  </tbody>\n</table>\n</div>"
     },
     "metadata": {},
     "execution_count": 15
    }
   ],
   "source": [
    "df[df.New_deaths < 0]  # Shows invalid data, good for data exploration"
   ]
  },
  {
   "cell_type": "code",
   "execution_count": 16,
   "metadata": {},
   "outputs": [],
   "source": [
    "# Create new column to find percentage of cases today as a percentage of total\n",
    "df[\"pct_cases\"] = (df[\"New_cases\"] / df[\"Cumulative_cases\"]) * 100"
   ]
  },
  {
   "cell_type": "code",
   "execution_count": null,
   "metadata": {},
   "outputs": [],
   "source": []
  }
 ]
}